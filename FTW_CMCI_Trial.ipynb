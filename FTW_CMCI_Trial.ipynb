{
 "cells": [
  {
   "cell_type": "code",
   "execution_count": 8,
   "id": "1f34db31",
   "metadata": {},
   "outputs": [
    {
     "name": "stdout",
     "output_type": "stream",
     "text": [
      "Table not found.\n"
     ]
    }
   ],
   "source": [
    "import requests\n",
    "from bs4 import BeautifulSoup\n",
    "import pandas as pd\n",
    "\n",
    "# Specify the URL of the website you want to scrape\n",
    "url = \"https://cmci.dti.gov.ph/data-portal.php\"\n",
    "\n",
    "# Send an HTTP GET request to the URL\n",
    "response = requests.get(url)\n",
    "\n",
    "# Check if the request was successful (status code 200)\n",
    "if response.status_code == 200:\n",
    "    # Parse the HTML content with BeautifulSoup\n",
    "    soup = BeautifulSoup(response.content, 'html.parser')\n",
    "\n",
    "    # Find the table element based on its ID or class\n",
    "    table = soup.find('table', {'id': 'table_data2'})\n",
    "\n",
    "    # If the table is found, you can extract its content\n",
    "    if table:\n",
    "        # Extracting table rows\n",
    "        rows = table.find_all('tr')\n",
    "\n",
    "        # Initialize a list to store the rows of data\n",
    "        rows_list = []\n",
    "\n",
    "        # Loop through rows and append data to the list\n",
    "        for row in rows:\n",
    "            columns = row.find_all(['th', 'td'])\n",
    "            row_data = [column.get_text(strip=True) for column in columns]\n",
    "            rows_list.append(row_data)\n",
    "\n",
    "        # Create a DataFrame from the list of rows\n",
    "        data_df = pd.DataFrame(rows_list)\n",
    "\n",
    "        # Display the DataFrame\n",
    "        print(data_df)\n",
    "\n",
    "    else:\n",
    "        print(\"Table not found.\")\n",
    "else:\n",
    "    print(\"Failed to retrieve the webpage. Status code:\", response.status_code)"
   ]
  },
  {
   "cell_type": "code",
   "execution_count": 9,
   "id": "5967af2d",
   "metadata": {},
   "outputs": [
    {
     "name": "stdout",
     "output_type": "stream",
     "text": [
      "List of Local Government Units (LGUs):\n",
      "[]\n"
     ]
    }
   ],
   "source": [
    "import requests\n",
    "from bs4 import BeautifulSoup\n",
    "\n",
    "# Specify the URL of the website you want to scrape\n",
    "url = \"https://cmci.dti.gov.ph/data-portal.php\"\n",
    "\n",
    "# Send an HTTP GET request to the URL\n",
    "response = requests.get(url)\n",
    "\n",
    "# Check if the request was successful (status code 200)\n",
    "if response.status_code == 200:\n",
    "    # Parse the HTML content with BeautifulSoup\n",
    "    soup = BeautifulSoup(response.content, 'html.parser')\n",
    "\n",
    "    # Find all checkbox elements for LGUs\n",
    "    lgus_checkboxes = soup.find_all('input', {'name': 'chk-lgu[]'})\n",
    "\n",
    "    # Extract the LGU names\n",
    "    lgus = [lgus_checkbox.get('value') for lgus_checkbox in lgus_checkboxes]\n",
    "\n",
    "    # Display the list of LGUs\n",
    "    print(\"List of Local Government Units (LGUs):\")\n",
    "    print(lgus)\n",
    "\n",
    "else:\n",
    "    print(\"Failed to retrieve the webpage. Status code:\", response.status_code)"
   ]
  },
  {
   "cell_type": "code",
   "execution_count": 11,
   "id": "e06d9b26",
   "metadata": {},
   "outputs": [
    {
     "name": "stdout",
     "output_type": "stream",
     "text": [
      "LGU 'Aborlan' not found.\n"
     ]
    }
   ],
   "source": [
    "import requests\n",
    "from bs4 import BeautifulSoup\n",
    "import pandas as pd\n",
    "\n",
    "# Specify the URL of the website you want to scrape\n",
    "url = \"https://cmci.dti.gov.ph/data-portal.php\"\n",
    "\n",
    "# Send an HTTP GET request to the URL\n",
    "response = requests.get(url)\n",
    "\n",
    "# Check if the request was successful (status code 200)\n",
    "if response.status_code == 200:\n",
    "    # Parse the HTML content with BeautifulSoup\n",
    "    soup = BeautifulSoup(response.content, 'html.parser')\n",
    "\n",
    "    # Specify the LGU you want to extract data for (e.g., Aborlan)\n",
    "    target_lgu = 'Aborlan'\n",
    "\n",
    "    # Find the checkbox for the specified LGU\n",
    "    lgu_checkbox = soup.find('input', {'name': 'chk-lgu[]', 'value': target_lgu})\n",
    "\n",
    "    # Check if the LGU checkbox is found\n",
    "    if lgu_checkbox:\n",
    "        # Extract the data for the specified LGU\n",
    "        lgu_data = lgu_checkbox.find_parent('tr').find_all(['th', 'td'])\n",
    "        lgu_data = [column.get_text(strip=True) for column in lgu_data]\n",
    "\n",
    "        # Create a DataFrame for the LGU data\n",
    "        lgu_df = pd.DataFrame([lgu_data], columns=['Indicator'] + lgu_data[1::2])\n",
    "\n",
    "        # Display the DataFrame\n",
    "        print(f\"Data for {target_lgu}:\")\n",
    "        print(lgu_df)\n",
    "\n",
    "    else:\n",
    "        print(f\"LGU '{target_lgu}' not found.\")\n",
    "\n",
    "else:\n",
    "    print(\"Failed to retrieve the webpage. Status code:\", response.status_code)"
   ]
  },
  {
   "cell_type": "code",
   "execution_count": null,
   "id": "7a4cebf2",
   "metadata": {},
   "outputs": [],
   "source": []
  }
 ],
 "metadata": {
  "kernelspec": {
   "display_name": "Python 3 (ipykernel)",
   "language": "python",
   "name": "python3"
  },
  "language_info": {
   "codemirror_mode": {
    "name": "ipython",
    "version": 3
   },
   "file_extension": ".py",
   "mimetype": "text/x-python",
   "name": "python",
   "nbconvert_exporter": "python",
   "pygments_lexer": "ipython3",
   "version": "3.11.4"
  }
 },
 "nbformat": 4,
 "nbformat_minor": 5
}
